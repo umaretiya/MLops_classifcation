{
 "cells": [
  {
   "cell_type": "code",
   "execution_count": 4,
   "id": "006484e3",
   "metadata": {},
   "outputs": [],
   "source": [
    "import pickle, numpy as np\n",
    "with open(\"notebooks\\\\xgb_banking.pkl\", \"rb\") as file:\n",
    "    pick = file.read()\n",
    "    gredeint_model = pickle.loads(pick)"
   ]
  },
  {
   "cell_type": "code",
   "execution_count": 5,
   "id": "dcf3c79f",
   "metadata": {},
   "outputs": [],
   "source": [
    "dict_data = {'PAY_0':-1, 'PAY_2':3, 'PAY_3':0, 'PAY_4':0, 'PAY_5':4, 'PAY_6':1, 'BILL_AMT2':2000,\n",
    "       'BILL_AMT3':5000, 'BILL_AMT4':3400, 'BILL_AMT5':10000, 'BILL_AMT6':2500, 'PAY_AMT1':0,\n",
    "       'PAY_AMT2':1000, 'PAY_AMT3':2000, 'PAY_AMT4':1000}\n",
    "\n",
    "a = np.array(list(dict_data.values())).reshape(1,15)\n",
    "gredeint_model"
   ]
  }
 ],
 "metadata": {
  "kernelspec": {
   "display_name": "Python 3 (ipykernel)",
   "language": "python",
   "name": "python3"
  },
  "language_info": {
   "codemirror_mode": {
    "name": "ipython",
    "version": 3
   },
   "file_extension": ".py",
   "mimetype": "text/x-python",
   "name": "python",
   "nbconvert_exporter": "python",
   "pygments_lexer": "ipython3",
   "version": "3.9.12"
  }
 },
 "nbformat": 4,
 "nbformat_minor": 5
}
